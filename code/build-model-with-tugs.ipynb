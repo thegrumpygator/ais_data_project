{
 "cells": [
  {
   "cell_type": "code",
   "execution_count": 1,
   "metadata": {},
   "outputs": [],
   "source": [
    "import pandas as pd\n",
    "import os\n",
    "\n",
    "filepath = \"C:/Users/gator/Documents/==CNA/CNA_Hackathon_2019_Data\"\n",
    "filename = \"2015_hackathon_v1.1.2.hdf\"\n",
    "\n",
    "df = pd.read_hdf(\"C:/Users/gator/Documents/==CNA/CNA_Hackathon_2019_Data/2015_hackathon_v1.1.2.hdf\", key=\"tracks\")\n",
    "\n",
    "#df = pd.read_hdf5(os.path.join(filepath, filename))\n",
    "\n",
    "#df = df.head(10000000).copy()"
   ]
  },
  {
   "cell_type": "code",
   "execution_count": 2,
   "metadata": {},
   "outputs": [],
   "source": [
    "superclass = {\n",
    "    1024: 1, 80: 1, 81: 1, 82: 1, 83: 1, 84: 1, 89: 1, \n",
    "    1019: 2, 36: 2, 37: 2,\n",
    "    1001: 3, 30: 3, \n",
    "    70: 4, 71: 4, 72: 4, 73: 4, 74: 4, 75: 4, 77: 4, 79: 4, 1003: 4, 1004: 4,\n",
    "    31: 5,  52: 5, 1025: 5\n",
    "}\n",
    "\n",
    "#1 = tanker\n",
    "#2 = rec\n",
    "#3 = fishing\n",
    "#4 = cargo\n",
    "#5 = tugs\n",
    "\n",
    "df['SuperClass'] = (df\n",
    "                    [\"VesselType\"]\n",
    "                    .apply(lambda x: superclass.get(x, 6))\n",
    "                    )"
   ]
  },
  {
   "cell_type": "code",
   "execution_count": 3,
   "metadata": {},
   "outputs": [],
   "source": [
    "df = df[df['SuperClass'] != 6]"
   ]
  },
  {
   "cell_type": "code",
   "execution_count": 20,
   "metadata": {},
   "outputs": [
    {
     "data": {
      "text/plain": [
       "5    12846086\n",
       "2    10247932\n",
       "3     2896346\n",
       "4     2838532\n",
       "1      699132\n",
       "Name: SuperClass, dtype: int64"
      ]
     },
     "execution_count": 20,
     "metadata": {},
     "output_type": "execute_result"
    }
   ],
   "source": [
    "df['SuperClass'].value_counts()"
   ]
  },
  {
   "cell_type": "code",
   "execution_count": 4,
   "metadata": {},
   "outputs": [],
   "source": [
    "# Speed: Speed mean, speed median, speed standard deviation,\n",
    "\n",
    "# Distance: LAT LON\n",
    "\n",
    "import numpy as np\n",
    "\n",
    "df[\"LAT_cd\"] = (df\n",
    "                .groupby([\"MMSI\", \"track_num\"])\n",
    "                [\"LAT\"]\n",
    "                .diff()\n",
    "                .apply(lambda x: x ** 2)\n",
    "                .fillna(0)\n",
    "                )\n",
    "\n",
    "df[\"LON_cd\"] = (df\n",
    "                .groupby([\"MMSI\", \"track_num\"])\n",
    "                [\"LON\"]\n",
    "                .diff()\n",
    "                .apply(lambda x: x ** 2)\n",
    "                .fillna(0)\n",
    "                )\n",
    "\n",
    "df[\"distance\"] = df[\"LAT_cd\"] + df[\"LON_cd\"]\n",
    "\n",
    "df[\"distance\"] = df[\"distance\"].apply(np.sqrt)\n",
    "\n",
    "df[\"cumulative_distance\"] = (df\n",
    "                             # (df\n",
    "                             .groupby([\"MMSI\", \"track_num\"])\n",
    "                             [\"distance\"]\n",
    "                             .cumsum()\n",
    "                             )\n",
    "\n",
    "#df[\"cumulative_distance\"] = (df\n",
    "# (df\n",
    "#          .groupby([\"MMSI\", \"track_num\"])\n",
    "#          [\"cumulative_distance\"]\n",
    "#          .last()\n",
    "#          #.to_frame()\n",
    "#         )"
   ]
  },
  {
   "cell_type": "code",
   "execution_count": 5,
   "metadata": {},
   "outputs": [],
   "source": [
    "def fillnan511(x):\n",
    "    if x == 511:\n",
    "        return np.nan\n",
    "    else:\n",
    "        return x\n",
    "\n",
    "def modheading(x):\n",
    "    return np.abs(x) % 360"
   ]
  },
  {
   "cell_type": "code",
   "execution_count": 6,
   "metadata": {},
   "outputs": [],
   "source": [
    "df[\"Heading\"] = df[\"Heading\"].apply(fillnan511)"
   ]
  },
  {
   "cell_type": "code",
   "execution_count": 7,
   "metadata": {},
   "outputs": [],
   "source": [
    "df[\"Heading\"] = df.groupby([\"MMSI\", \"track_num\"])[\"Heading\"].ffill()"
   ]
  },
  {
   "cell_type": "code",
   "execution_count": 21,
   "metadata": {},
   "outputs": [],
   "source": [
    "df[\"Heading\"] = df[\"Heading\"].fillna(0)"
   ]
  },
  {
   "cell_type": "code",
   "execution_count": 9,
   "metadata": {},
   "outputs": [],
   "source": [
    "df[\"cumulative_heading\"] = (df\n",
    "                            # (df\n",
    "                            .groupby([\"MMSI\", \"track_num\"])\n",
    "                            [\"Heading\"]\n",
    "                            .diff()\n",
    "                            .apply(modheading)\n",
    "                            # .groupby([\"MMSI\", \"track_num\"])\n",
    "                            # .isna()\n",
    "                            # .sum()\n",
    "                            )\n",
    "\n",
    "df[\"cumulative_heading\"] = (df\n",
    "                            .groupby([\"MMSI\", \"track_num\"])\n",
    "                            [\"cumulative_heading\"]\n",
    "                            .cumsum()\n",
    "                            )\n",
    "\n",
    "# df[\"heading_cumulative\"] = (df\n",
    "#     .groupby([\"MMSI\", \"track_num\"])\n",
    "#     [\"Heading\"]\n",
    "#     .diff()\n",
    "#     .apply(modheading)\n",
    "# )\n",
    "\n",
    "\n",
    "# .agg({\"column\": [function1, function2, np.abs]})\n",
    "\n",
    "# from scipy import stats"
   ]
  },
  {
   "cell_type": "code",
   "execution_count": 10,
   "metadata": {},
   "outputs": [],
   "source": [
    "df_speed_mean = (df\n",
    "    .groupby([\"MMSI\", \"track_num\"])\n",
    "    .agg({\n",
    "    \"cumulative_distance\": [\"last\"],\n",
    "    \"cumulative_heading\": [\"last\"],\n",
    "    \"SOG\": [\"mean\", \"median\", \"std\"],\n",
    "    \"Status\": [lambda x: x.value_counts().index[0]],\n",
    "    \"Length\": [lambda x: np.nanmax(x)],\n",
    "    \"Width\": [lambda x: np.nanmax(x)],\n",
    "    \"Draft\": [lambda x: np.nanmax(x)],\n",
    "    \"SuperClass\": [lambda x: x.value_counts().index[0]],\n",
    "}))\n",
    "\n",
    "# runtime warnings - 3x \"All-NaN axis encountered\""
   ]
  },
  {
   "cell_type": "code",
   "execution_count": 11,
   "metadata": {},
   "outputs": [],
   "source": [
    "dfs = df_speed_mean\n",
    "\n",
    "cols = [\n",
    "    \"cumulative_distance\",\n",
    "    \"cumulative_heading\",\n",
    "    \"SOG_mean\",\n",
    "    \"SOG_median\",\n",
    "    \"SOG_std\",\n",
    "    \"Status\",\n",
    "    \"Length\",\n",
    "    \"Width\",\n",
    "    \"Draft\",\n",
    "    \"SuperClass\",\n",
    "]\n",
    "\n",
    "dfs.columns = cols"
   ]
  },
  {
   "cell_type": "code",
   "execution_count": 23,
   "metadata": {},
   "outputs": [
    {
     "data": {
      "text/html": [
       "<div>\n",
       "<style scoped>\n",
       "    .dataframe tbody tr th:only-of-type {\n",
       "        vertical-align: middle;\n",
       "    }\n",
       "\n",
       "    .dataframe tbody tr th {\n",
       "        vertical-align: top;\n",
       "    }\n",
       "\n",
       "    .dataframe thead th {\n",
       "        text-align: right;\n",
       "    }\n",
       "</style>\n",
       "<table border=\"1\" class=\"dataframe\">\n",
       "  <thead>\n",
       "    <tr style=\"text-align: right;\">\n",
       "      <th></th>\n",
       "      <th></th>\n",
       "      <th>cumulative_distance</th>\n",
       "      <th>cumulative_heading</th>\n",
       "      <th>SOG_mean</th>\n",
       "      <th>SOG_median</th>\n",
       "      <th>SOG_std</th>\n",
       "      <th>Status</th>\n",
       "      <th>Length</th>\n",
       "      <th>Width</th>\n",
       "      <th>Draft</th>\n",
       "      <th>SuperClass</th>\n",
       "    </tr>\n",
       "    <tr>\n",
       "      <th>MMSI</th>\n",
       "      <th>track_num</th>\n",
       "      <th></th>\n",
       "      <th></th>\n",
       "      <th></th>\n",
       "      <th></th>\n",
       "      <th></th>\n",
       "      <th></th>\n",
       "      <th></th>\n",
       "      <th></th>\n",
       "      <th></th>\n",
       "      <th></th>\n",
       "    </tr>\n",
       "  </thead>\n",
       "  <tbody>\n",
       "    <tr>\n",
       "      <th>0</th>\n",
       "      <th>0</th>\n",
       "      <td>9.918148</td>\n",
       "      <td>1336.0</td>\n",
       "      <td>8.917166</td>\n",
       "      <td>9.4</td>\n",
       "      <td>1.621124</td>\n",
       "      <td>0</td>\n",
       "      <td>20.0</td>\n",
       "      <td>4.0</td>\n",
       "      <td>3.0</td>\n",
       "      <td>5</td>\n",
       "    </tr>\n",
       "    <tr>\n",
       "      <th>1</th>\n",
       "      <th>0</th>\n",
       "      <td>0.157133</td>\n",
       "      <td>0.0</td>\n",
       "      <td>4.907692</td>\n",
       "      <td>4.5</td>\n",
       "      <td>4.179805</td>\n",
       "      <td>0</td>\n",
       "      <td>0.0</td>\n",
       "      <td>0.0</td>\n",
       "      <td>0.0</td>\n",
       "      <td>5</td>\n",
       "    </tr>\n",
       "    <tr>\n",
       "      <th rowspan=\"2\" valign=\"top\">3011</th>\n",
       "      <th>0</th>\n",
       "      <td>0.000274</td>\n",
       "      <td>0.0</td>\n",
       "      <td>0.000000</td>\n",
       "      <td>0.0</td>\n",
       "      <td>0.000000</td>\n",
       "      <td>0</td>\n",
       "      <td>0.0</td>\n",
       "      <td>0.0</td>\n",
       "      <td>1.5</td>\n",
       "      <td>5</td>\n",
       "    </tr>\n",
       "    <tr>\n",
       "      <th>1</th>\n",
       "      <td>0.000428</td>\n",
       "      <td>0.0</td>\n",
       "      <td>0.000000</td>\n",
       "      <td>0.0</td>\n",
       "      <td>0.000000</td>\n",
       "      <td>0</td>\n",
       "      <td>0.0</td>\n",
       "      <td>0.0</td>\n",
       "      <td>1.5</td>\n",
       "      <td>5</td>\n",
       "    </tr>\n",
       "    <tr>\n",
       "      <th>38111</th>\n",
       "      <th>0</th>\n",
       "      <td>0.503139</td>\n",
       "      <td>0.0</td>\n",
       "      <td>10.678125</td>\n",
       "      <td>11.2</td>\n",
       "      <td>9.768435</td>\n",
       "      <td>-1</td>\n",
       "      <td>NaN</td>\n",
       "      <td>NaN</td>\n",
       "      <td>NaN</td>\n",
       "      <td>5</td>\n",
       "    </tr>\n",
       "  </tbody>\n",
       "</table>\n",
       "</div>"
      ],
      "text/plain": [
       "                 cumulative_distance  cumulative_heading   SOG_mean  \\\n",
       "MMSI  track_num                                                       \n",
       "0     0                     9.918148              1336.0   8.917166   \n",
       "1     0                     0.157133                 0.0   4.907692   \n",
       "3011  0                     0.000274                 0.0   0.000000   \n",
       "      1                     0.000428                 0.0   0.000000   \n",
       "38111 0                     0.503139                 0.0  10.678125   \n",
       "\n",
       "                 SOG_median   SOG_std  Status  Length  Width  Draft  \\\n",
       "MMSI  track_num                                                       \n",
       "0     0                 9.4  1.621124       0    20.0    4.0    3.0   \n",
       "1     0                 4.5  4.179805       0     0.0    0.0    0.0   \n",
       "3011  0                 0.0  0.000000       0     0.0    0.0    1.5   \n",
       "      1                 0.0  0.000000       0     0.0    0.0    1.5   \n",
       "38111 0                11.2  9.768435      -1     NaN    NaN    NaN   \n",
       "\n",
       "                 SuperClass  \n",
       "MMSI  track_num              \n",
       "0     0                   5  \n",
       "1     0                   5  \n",
       "3011  0                   5  \n",
       "      1                   5  \n",
       "38111 0                   5  "
      ]
     },
     "execution_count": 23,
     "metadata": {},
     "output_type": "execute_result"
    }
   ],
   "source": [
    "dfs.head()"
   ]
  },
  {
   "cell_type": "code",
   "execution_count": 24,
   "metadata": {},
   "outputs": [],
   "source": []
  },
  {
   "cell_type": "code",
   "execution_count": null,
   "metadata": {},
   "outputs": [],
   "source": []
  },
  {
   "cell_type": "code",
   "execution_count": 25,
   "metadata": {},
   "outputs": [
    {
     "data": {
      "text/html": [
       "<div>\n",
       "<style scoped>\n",
       "    .dataframe tbody tr th:only-of-type {\n",
       "        vertical-align: middle;\n",
       "    }\n",
       "\n",
       "    .dataframe tbody tr th {\n",
       "        vertical-align: top;\n",
       "    }\n",
       "\n",
       "    .dataframe thead th {\n",
       "        text-align: right;\n",
       "    }\n",
       "</style>\n",
       "<table border=\"1\" class=\"dataframe\">\n",
       "  <thead>\n",
       "    <tr style=\"text-align: right;\">\n",
       "      <th></th>\n",
       "      <th></th>\n",
       "      <th>cumulative_distance</th>\n",
       "      <th>cumulative_heading</th>\n",
       "      <th>SOG_mean</th>\n",
       "      <th>SOG_median</th>\n",
       "      <th>SOG_std</th>\n",
       "      <th>Status</th>\n",
       "      <th>Length</th>\n",
       "      <th>Width</th>\n",
       "      <th>Draft</th>\n",
       "      <th>SuperClass</th>\n",
       "    </tr>\n",
       "    <tr>\n",
       "      <th>MMSI</th>\n",
       "      <th>track_num</th>\n",
       "      <th></th>\n",
       "      <th></th>\n",
       "      <th></th>\n",
       "      <th></th>\n",
       "      <th></th>\n",
       "      <th></th>\n",
       "      <th></th>\n",
       "      <th></th>\n",
       "      <th></th>\n",
       "      <th></th>\n",
       "    </tr>\n",
       "  </thead>\n",
       "  <tbody>\n",
       "    <tr>\n",
       "      <th rowspan=\"5\" valign=\"top\">527918</th>\n",
       "      <th>0</th>\n",
       "      <td>2.662621</td>\n",
       "      <td>0.0</td>\n",
       "      <td>1.189537</td>\n",
       "      <td>0.0</td>\n",
       "      <td>2.739407</td>\n",
       "      <td>-1</td>\n",
       "      <td>20.0</td>\n",
       "      <td>7.0</td>\n",
       "      <td>0.0</td>\n",
       "      <td>3</td>\n",
       "    </tr>\n",
       "    <tr>\n",
       "      <th>1</th>\n",
       "      <td>2.229054</td>\n",
       "      <td>0.0</td>\n",
       "      <td>8.055952</td>\n",
       "      <td>9.8</td>\n",
       "      <td>3.638651</td>\n",
       "      <td>-1</td>\n",
       "      <td>20.0</td>\n",
       "      <td>7.0</td>\n",
       "      <td>0.0</td>\n",
       "      <td>3</td>\n",
       "    </tr>\n",
       "    <tr>\n",
       "      <th>2</th>\n",
       "      <td>0.018335</td>\n",
       "      <td>0.0</td>\n",
       "      <td>0.279167</td>\n",
       "      <td>0.0</td>\n",
       "      <td>0.680412</td>\n",
       "      <td>-1</td>\n",
       "      <td>20.0</td>\n",
       "      <td>7.0</td>\n",
       "      <td>0.0</td>\n",
       "      <td>3</td>\n",
       "    </tr>\n",
       "    <tr>\n",
       "      <th>3</th>\n",
       "      <td>0.028191</td>\n",
       "      <td>0.0</td>\n",
       "      <td>0.388136</td>\n",
       "      <td>0.0</td>\n",
       "      <td>1.179141</td>\n",
       "      <td>-1</td>\n",
       "      <td>20.0</td>\n",
       "      <td>7.0</td>\n",
       "      <td>0.0</td>\n",
       "      <td>3</td>\n",
       "    </tr>\n",
       "    <tr>\n",
       "      <th>4</th>\n",
       "      <td>0.036418</td>\n",
       "      <td>0.0</td>\n",
       "      <td>0.020307</td>\n",
       "      <td>0.0</td>\n",
       "      <td>0.282021</td>\n",
       "      <td>-1</td>\n",
       "      <td>20.0</td>\n",
       "      <td>7.0</td>\n",
       "      <td>0.0</td>\n",
       "      <td>3</td>\n",
       "    </tr>\n",
       "  </tbody>\n",
       "</table>\n",
       "</div>"
      ],
      "text/plain": [
       "                  cumulative_distance  cumulative_heading  SOG_mean  \\\n",
       "MMSI   track_num                                                      \n",
       "527918 0                     2.662621                 0.0  1.189537   \n",
       "       1                     2.229054                 0.0  8.055952   \n",
       "       2                     0.018335                 0.0  0.279167   \n",
       "       3                     0.028191                 0.0  0.388136   \n",
       "       4                     0.036418                 0.0  0.020307   \n",
       "\n",
       "                  SOG_median   SOG_std  Status  Length  Width  Draft  \\\n",
       "MMSI   track_num                                                       \n",
       "527918 0                 0.0  2.739407      -1    20.0    7.0    0.0   \n",
       "       1                 9.8  3.638651      -1    20.0    7.0    0.0   \n",
       "       2                 0.0  0.680412      -1    20.0    7.0    0.0   \n",
       "       3                 0.0  1.179141      -1    20.0    7.0    0.0   \n",
       "       4                 0.0  0.282021      -1    20.0    7.0    0.0   \n",
       "\n",
       "                  SuperClass  \n",
       "MMSI   track_num              \n",
       "527918 0                   3  \n",
       "       1                   3  \n",
       "       2                   3  \n",
       "       3                   3  \n",
       "       4                   3  "
      ]
     },
     "execution_count": 25,
     "metadata": {},
     "output_type": "execute_result"
    }
   ],
   "source": [
    "dfs.head()"
   ]
  },
  {
   "cell_type": "code",
   "execution_count": 12,
   "metadata": {},
   "outputs": [],
   "source": [
    "dfs['norm_heading'] = (dfs['cumulative_heading'] / dfs['cumulative_distance']).replace([np.inf, -np.inf], np.nan).fillna(0)"
   ]
  },
  {
   "cell_type": "code",
   "execution_count": 14,
   "metadata": {},
   "outputs": [
    {
     "data": {
      "text/html": [
       "<div>\n",
       "<style scoped>\n",
       "    .dataframe tbody tr th:only-of-type {\n",
       "        vertical-align: middle;\n",
       "    }\n",
       "\n",
       "    .dataframe tbody tr th {\n",
       "        vertical-align: top;\n",
       "    }\n",
       "\n",
       "    .dataframe thead th {\n",
       "        text-align: right;\n",
       "    }\n",
       "</style>\n",
       "<table border=\"1\" class=\"dataframe\">\n",
       "  <thead>\n",
       "    <tr style=\"text-align: right;\">\n",
       "      <th></th>\n",
       "      <th></th>\n",
       "      <th>cumulative_distance</th>\n",
       "      <th>cumulative_heading</th>\n",
       "      <th>SOG_mean</th>\n",
       "      <th>SOG_median</th>\n",
       "      <th>SOG_std</th>\n",
       "      <th>Status</th>\n",
       "      <th>Length</th>\n",
       "      <th>Width</th>\n",
       "      <th>Draft</th>\n",
       "      <th>SuperClass</th>\n",
       "      <th>norm_heading</th>\n",
       "    </tr>\n",
       "    <tr>\n",
       "      <th>MMSI</th>\n",
       "      <th>track_num</th>\n",
       "      <th></th>\n",
       "      <th></th>\n",
       "      <th></th>\n",
       "      <th></th>\n",
       "      <th></th>\n",
       "      <th></th>\n",
       "      <th></th>\n",
       "      <th></th>\n",
       "      <th></th>\n",
       "      <th></th>\n",
       "      <th></th>\n",
       "    </tr>\n",
       "  </thead>\n",
       "  <tbody>\n",
       "    <tr>\n",
       "      <th rowspan=\"5\" valign=\"top\">527918</th>\n",
       "      <th>0</th>\n",
       "      <td>2.662621</td>\n",
       "      <td>0.0</td>\n",
       "      <td>1.189537</td>\n",
       "      <td>0.0</td>\n",
       "      <td>2.739407</td>\n",
       "      <td>-1</td>\n",
       "      <td>20.0</td>\n",
       "      <td>7.0</td>\n",
       "      <td>0.0</td>\n",
       "      <td>3</td>\n",
       "      <td>0.0</td>\n",
       "    </tr>\n",
       "    <tr>\n",
       "      <th>1</th>\n",
       "      <td>2.229054</td>\n",
       "      <td>0.0</td>\n",
       "      <td>8.055952</td>\n",
       "      <td>9.8</td>\n",
       "      <td>3.638651</td>\n",
       "      <td>-1</td>\n",
       "      <td>20.0</td>\n",
       "      <td>7.0</td>\n",
       "      <td>0.0</td>\n",
       "      <td>3</td>\n",
       "      <td>0.0</td>\n",
       "    </tr>\n",
       "    <tr>\n",
       "      <th>2</th>\n",
       "      <td>0.018335</td>\n",
       "      <td>0.0</td>\n",
       "      <td>0.279167</td>\n",
       "      <td>0.0</td>\n",
       "      <td>0.680412</td>\n",
       "      <td>-1</td>\n",
       "      <td>20.0</td>\n",
       "      <td>7.0</td>\n",
       "      <td>0.0</td>\n",
       "      <td>3</td>\n",
       "      <td>0.0</td>\n",
       "    </tr>\n",
       "    <tr>\n",
       "      <th>3</th>\n",
       "      <td>0.028191</td>\n",
       "      <td>0.0</td>\n",
       "      <td>0.388136</td>\n",
       "      <td>0.0</td>\n",
       "      <td>1.179141</td>\n",
       "      <td>-1</td>\n",
       "      <td>20.0</td>\n",
       "      <td>7.0</td>\n",
       "      <td>0.0</td>\n",
       "      <td>3</td>\n",
       "      <td>0.0</td>\n",
       "    </tr>\n",
       "    <tr>\n",
       "      <th>4</th>\n",
       "      <td>0.036418</td>\n",
       "      <td>0.0</td>\n",
       "      <td>0.020307</td>\n",
       "      <td>0.0</td>\n",
       "      <td>0.282021</td>\n",
       "      <td>-1</td>\n",
       "      <td>20.0</td>\n",
       "      <td>7.0</td>\n",
       "      <td>0.0</td>\n",
       "      <td>3</td>\n",
       "      <td>0.0</td>\n",
       "    </tr>\n",
       "  </tbody>\n",
       "</table>\n",
       "</div>"
      ],
      "text/plain": [
       "                  cumulative_distance  cumulative_heading  SOG_mean  \\\n",
       "MMSI   track_num                                                      \n",
       "527918 0                     2.662621                 0.0  1.189537   \n",
       "       1                     2.229054                 0.0  8.055952   \n",
       "       2                     0.018335                 0.0  0.279167   \n",
       "       3                     0.028191                 0.0  0.388136   \n",
       "       4                     0.036418                 0.0  0.020307   \n",
       "\n",
       "                  SOG_median   SOG_std  Status  Length  Width  Draft  \\\n",
       "MMSI   track_num                                                       \n",
       "527918 0                 0.0  2.739407      -1    20.0    7.0    0.0   \n",
       "       1                 9.8  3.638651      -1    20.0    7.0    0.0   \n",
       "       2                 0.0  0.680412      -1    20.0    7.0    0.0   \n",
       "       3                 0.0  1.179141      -1    20.0    7.0    0.0   \n",
       "       4                 0.0  0.282021      -1    20.0    7.0    0.0   \n",
       "\n",
       "                  SuperClass  norm_heading  \n",
       "MMSI   track_num                            \n",
       "527918 0                   3           0.0  \n",
       "       1                   3           0.0  \n",
       "       2                   3           0.0  \n",
       "       3                   3           0.0  \n",
       "       4                   3           0.0  "
      ]
     },
     "execution_count": 14,
     "metadata": {},
     "output_type": "execute_result"
    }
   ],
   "source": [
    "dfs.head()"
   ]
  },
  {
   "cell_type": "code",
   "execution_count": 16,
   "metadata": {},
   "outputs": [],
   "source": [
    "dfs.to_csv(\"ready_to_model_with_tugs.csv\")"
   ]
  },
  {
   "cell_type": "code",
   "execution_count": 18,
   "metadata": {},
   "outputs": [
    {
     "name": "stdout",
     "output_type": "stream",
     "text": [
      "distance\n",
      "heading\n",
      "Speed Mean\n",
      "speed median\n",
      "speed var\n",
      "norm heading\n",
      "Status\n",
      "Len\n",
      "Wid\n",
      "Draft\n",
      "Class\n"
     ]
    },
    {
     "data": {
      "text/plain": [
       "array([[<matplotlib.axes._subplots.AxesSubplot object at 0x0000021DC8138488>],\n",
       "       [<matplotlib.axes._subplots.AxesSubplot object at 0x0000021DC816EC48>],\n",
       "       [<matplotlib.axes._subplots.AxesSubplot object at 0x0000021DC81A5CC8>],\n",
       "       [<matplotlib.axes._subplots.AxesSubplot object at 0x0000021DC81DDEC8>],\n",
       "       [<matplotlib.axes._subplots.AxesSubplot object at 0x0000021DC8215B88>]],\n",
       "      dtype=object)"
      ]
     },
     "execution_count": 18,
     "metadata": {},
     "output_type": "execute_result"
    },
    {
     "data": {
      "image/png": "[encoded data removed]",
      "text/plain": [
       "<Figure size 432x288 with 5 Axes>"
      ]
     },
     "metadata": {
      "needs_background": "light"
     },
     "output_type": "display_data"
    },
    {
     "data": {
      "image/png": "[encoded data removed]",
      "text/plain": [
       "<Figure size 432x288 with 5 Axes>"
      ]
     },
     "metadata": {
      "needs_background": "light"
     },
     "output_type": "display_data"
    },
    {
     "data": {
      "image/png": "[encoded data removed]",
      "text/plain": [
       "<Figure size 432x288 with 5 Axes>"
      ]
     },
     "metadata": {
      "needs_background": "light"
     },
     "output_type": "display_data"
    },
    {
     "data": {
      "image/png": "[encoded data removed]",
      "text/plain": [
       "<Figure size 432x288 with 5 Axes>"
      ]
     },
     "metadata": {
      "needs_background": "light"
     },
     "output_type": "display_data"
    },
    {
     "data": {
      "image/png": "[encoded data removed]",
      "text/plain": [
       "<Figure size 432x288 with 5 Axes>"
      ]
     },
     "metadata": {
      "needs_background": "light"
     },
     "output_type": "display_data"
    },
    {
     "data": {
      "image/png": "[encoded data removed]",
      "text/plain": [
       "<Figure size 432x288 with 5 Axes>"
      ]
     },
     "metadata": {
      "needs_background": "light"
     },
     "output_type": "display_data"
    },
    {
     "data": {
      "image/png": "[encoded data removed]",
      "text/plain": [
       "<Figure size 432x288 with 5 Axes>"
      ]
     },
     "metadata": {
      "needs_background": "light"
     },
     "output_type": "display_data"
    },
    {
     "data": {
      "image/png": "[encoded data removed]",
      "text/plain": [
       "<Figure size 432x288 with 5 Axes>"
      ]
     },
     "metadata": {
      "needs_background": "light"
     },
     "output_type": "display_data"
    },
    {
     "data": {
      "image/png": "[encoded data removed]",
      "text/plain": [
       "<Figure size 432x288 with 5 Axes>"
      ]
     },
     "metadata": {
      "needs_background": "light"
     },
     "output_type": "display_data"
    },
    {
     "data": {
      "image/png": "[encoded data removed]",
      "text/plain": [
       "<Figure size 432x288 with 5 Axes>"
      ]
     },
     "metadata": {
      "needs_background": "light"
     },
     "output_type": "display_data"
    },
    {
     "data": {
      "image/png": "[encoded data removed]",
      "text/plain": [
       "<Figure size 432x288 with 5 Axes>"
      ]
     },
     "metadata": {
      "needs_background": "light"
     },
     "output_type": "display_data"
    }
   ],
   "source": [
    "import matplotlib.pyplot as plt\n",
    "\n",
    "print(\"distance\")\n",
    "dfs.hist(column='cumulative_distance', by='SuperClass', layout=(5,1), sharex=True)\n",
    "print(\"heading\")\n",
    "dfs.hist(column='cumulative_heading', by='SuperClass', layout=(5,1), sharex=True)\n",
    "print(\"Speed Mean\")\n",
    "dfs.hist(column='SOG_mean', by='SuperClass', layout=(5,1), sharex=True)\n",
    "print(\"speed median\")\n",
    "dfs.hist(column='SOG_median', by='SuperClass', layout=(5,1), sharex=True)\n",
    "print(\"speed var\")\n",
    "dfs.hist(column='SOG_std', by='SuperClass', layout=(5,1), sharex=True)\n",
    "print(\"norm heading\")\n",
    "dfs.hist(column='norm_heading', by='SuperClass', layout=(5,1), sharex=True)\n",
    "print(\"Status\")\n",
    "dfs.hist(column='Status', by='SuperClass', layout=(5,1), sharex=True)\n",
    "print(\"Len\")\n",
    "dfs.hist(column='Length', by='SuperClass', layout=(5,1), sharex=True)\n",
    "print(\"Wid\")\n",
    "dfs.hist(column='Width', by='SuperClass', layout=(5,1), sharex=True)\n",
    "print(\"Draft\")\n",
    "dfs.hist(column='Draft', by='SuperClass', layout=(5,1), sharex=True)\n",
    "print(\"Class\")\n",
    "dfs.hist(column='SuperClass', layout=(5,1), sharex=True)"
   ]
  },
  {
   "cell_type": "code",
   "execution_count": null,
   "metadata": {},
   "outputs": [],
   "source": []
  },
  {
   "cell_type": "code",
   "execution_count": null,
   "metadata": {},
   "outputs": [],
   "source": []
  }
 ],
 "metadata": {
  "kernelspec": {
   "display_name": "Python 3",
   "language": "python",
   "name": "python3"
  },
  "language_info": {
   "codemirror_mode": {
    "name": "ipython",
    "version": 3
   },
   "file_extension": ".py",
   "mimetype": "text/x-python",
   "name": "python",
   "nbconvert_exporter": "python",
   "pygments_lexer": "ipython3",
   "version": "3.7.4"
  }
 },
 "nbformat": 4,
 "nbformat_minor": 2
}
